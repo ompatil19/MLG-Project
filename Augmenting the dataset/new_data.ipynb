{
 "cells": [
  {
   "cell_type": "code",
   "execution_count": 1,
   "metadata": {},
   "outputs": [
    {
     "name": "stdout",
     "output_type": "stream",
     "text": [
      "Original dataset size: 569\n",
      "Augmented dataset size: 5000\n"
     ]
    }
   ],
   "source": [
    "import pandas as pd\n",
    "import numpy as np\n",
    "\n",
    "# Load the original dataset\n",
    "# Replace 'your_dataset.csv' with the path to your dataset\n",
    "original_df = pd.read_csv('./data.csv')\n",
    "\n",
    "# Number of entries in the original dataset\n",
    "original_size = len(original_df)\n",
    "\n",
    "# Desired size range for the new dataset\n",
    "desired_min_size = 3000\n",
    "desired_max_size = 5000\n",
    "\n",
    "# Calculate the number of new entries needed\n",
    "new_entries_needed = desired_min_size - original_size\n",
    "\n",
    "# Function to create new entries by tweaking existing ones\n",
    "def augment_data(df, num_new_entries, tweak_amount=0.0001):\n",
    "    new_data = []\n",
    "    for _ in range(num_new_entries):\n",
    "        # Randomly choose an existing entry to tweak\n",
    "        random_entry = df.sample().iloc[0]\n",
    "        # Apply a small random tweak to the numeric values, but not the 'id' or 'diagnosis'\n",
    "        tweaked_entry = random_entry.copy()\n",
    "        for col in df.columns:\n",
    "            if col not in ['id', 'diagnosis']:\n",
    "                tweaked_entry[col] += np.random.uniform(-tweak_amount, tweak_amount) * tweaked_entry[col]\n",
    "        new_data.append(tweaked_entry)\n",
    "    return pd.DataFrame(new_data, columns=df.columns)\n",
    "\n",
    "# Generate new entries\n",
    "augmented_df = augment_data(original_df, new_entries_needed)\n",
    "\n",
    "# Combine the original and augmented datasets\n",
    "final_df = pd.concat([original_df, augmented_df], ignore_index=True)\n",
    "\n",
    "# If the augmented dataset is still less than the maximum desired size, augment further\n",
    "if len(final_df) < desired_max_size:\n",
    "    additional_entries_needed = desired_max_size - len(final_df)\n",
    "    final_df = pd.concat([final_df, augment_data(final_df, additional_entries_needed)], ignore_index=True)\n",
    "\n",
    "# Save the augmented dataset\n",
    "# Replace 'augmented_dataset.csv' with the desired output file path\n",
    "final_df.to_csv('augmented_dat.csv', index=False)\n",
    "\n",
    "print(f\"Original dataset size: {original_size}\")\n",
    "print(f\"Augmented dataset size: {len(final_df)}\")\n"
   ]
  }
 ],
 "metadata": {
  "kernelspec": {
   "display_name": "Python 3",
   "language": "python",
   "name": "python3"
  },
  "language_info": {
   "codemirror_mode": {
    "name": "ipython",
    "version": 3
   },
   "file_extension": ".py",
   "mimetype": "text/x-python",
   "name": "python",
   "nbconvert_exporter": "python",
   "pygments_lexer": "ipython3",
   "version": "3.11.2"
  }
 },
 "nbformat": 4,
 "nbformat_minor": 2
}
